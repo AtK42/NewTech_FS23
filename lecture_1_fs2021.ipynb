{
  "nbformat": 4,
  "nbformat_minor": 0,
  "metadata": {
    "kernelspec": {
      "display_name": "Python 3",
      "language": "python",
      "name": "python3"
    },
    "language_info": {
      "codemirror_mode": {
        "name": "ipython",
        "version": 3
      },
      "file_extension": ".py",
      "mimetype": "text/x-python",
      "name": "python",
      "nbconvert_exporter": "python",
      "pygments_lexer": "ipython3",
      "version": "3.6.8"
    },
    "colab": {
      "name": "lecture_1_fs2021.ipynb",
      "provenance": [],
      "include_colab_link": true
    }
  },
  "cells": [
    {
      "cell_type": "markdown",
      "metadata": {
        "id": "view-in-github",
        "colab_type": "text"
      },
      "source": [
        "<a href=\"https://colab.research.google.com/github/AtK42/NewTech_FS23/blob/main/lecture_1_fs2021.ipynb\" target=\"_parent\"><img src=\"https://colab.research.google.com/assets/colab-badge.svg\" alt=\"Open In Colab\"/></a>"
      ]
    },
    {
      "cell_type": "markdown",
      "metadata": {
        "id": "ArJLZ_kKqhx3"
      },
      "source": [
        "# Introduction to Machine Learning Fall 2022"
      ]
    },
    {
      "cell_type": "markdown",
      "metadata": {
        "id": "NYHN3jMhqhx7"
      },
      "source": [
        "It has always been a dream of mankind to create artificial intelligence, i.e. non-human entities which are able to perform or outperform human beings. It is not so clear what this means: is it just to calculate quicker? Or to play certain games more successfully by using algorithms? Or to learn playing games even without having certain algorithms or human expert knowledge being programmed? Or to enter the very heart of human creative activities (speaking to each other, writing books, composing music, investing money, etc) and producing work which is indistinguishable from human beings?\n",
        "\n",
        "This reminds us the [Turing test](https://en.wikipedia.org/wiki/Turing_test#Standard_interpretation): can one distinguish machines from human beings doing certain tasks in a blind observation."
      ]
    },
    {
      "cell_type": "markdown",
      "metadata": {
        "id": "gMIyaVmtqhx8"
      },
      "source": [
        "It is not so simple to pass the Turing test as first artificial intelligence communicators show: [ELIZA](https://www.masswerk.at/elizabot/eliza.html). Still it is fun and relaxing to chat a bit with Eliza.\n",
        "\n",
        "If Eliza were the peak of artificial intelligence, would you trust your money, your future pension, your banking environment to her, or would you rather believe that she can be outperformed?"
      ]
    },
    {
      "cell_type": "markdown",
      "metadata": {
        "id": "zZjn3fS4qhx8"
      },
      "source": [
        "We have, however, recently seen some spectacular successes by machine learning techniques in areas like\n",
        "1. Artificial communicators: [Google Duplex](https://www.youtube.com/watch?v=D5VN56jQMWM)\n",
        "2. Artificial Players: [AlphaGo](https://www.youtube.com/watch?v=8dMFJpEGNLQ) and the corresponding article from [December 5, 2017](https://arxiv.org/abs/1712.01815)\n",
        "3. Artificial Composers: [Schubert's unfinished symphony](https://www.classicfm.com/composers/schubert/unfinished-symphony-completed-by-ai/)\n",
        "4. Artificial Writers: [Open AI](https://www.theguardian.com/technology/2019/feb/14/elon-musk-backed-ai-writes-convincing-news-fiction)\n",
        "5. Protein Foldings: [Alpha Fold](https://deepmind.com/blog/article/AlphaFold-Using-AI-for-scientific-discovery)\n",
        "6. Chatgpt: [A universal Bot for chatting](https://openai.com/blog/chatgpt/)\n",
        "\n",
        "GPT: generative pretrained transofrmer; this is a recurrent network \\\\\n",
        "difference ELIZA/GPT: ELIZA takes principles of text and creates new text based on these principles \\\\\n",
        "GPT creates entirely new text \\\\\n",
        "drawback of AI: they need huge amounts of power"
      ]
    },
    {
      "cell_type": "markdown",
      "metadata": {
        "id": "wVYfyPD6qhx8"
      },
      "source": [
        "Here we definitively come closer to machines passing Turing tests, to machines outperforming human beings in core human activities, maybe also in investing money ... ?"
      ]
    },
    {
      "cell_type": "markdown",
      "metadata": {
        "id": "eehGlTBhqhx8"
      },
      "source": [
        "Several aspects make this renaissance of artificial intelligence possible: why renaissance? Because artifical intelligence as a scientific discipline has also experienced [AI winters](https://en.wikipedia.org/wiki/AI_winter)\n",
        "1. Computing power has evolved tremendously.\n",
        "2. The mathematical theory of learning has developed many tools.\n",
        "3. Techonology is nowadays very accessible.\n",
        "4. Convincing breakthroughs have been achieved in image recognition, natural languages, games, music, etc.\n",
        "\n",
        "Look for instance at the following simple task of recognizing handwritten digits, which is learned by a tabula rasa machine. Notice the simplicity of the code and its accessibility."
      ]
    },
    {
      "cell_type": "code",
      "metadata": {
        "id": "S4CiDqz7q11h"
      },
      "source": [
        "#%tensorflow_version 1.x"
      ],
      "execution_count": null,
      "outputs": []
    },
    {
      "cell_type": "code",
      "metadata": {
        "colab": {
          "base_uri": "https://localhost:8080/"
        },
        "id": "vUzv24HXqhx9",
        "outputId": "94360600-b101-42e4-c733-d9778bd7c644"
      },
      "source": [
        "import numpy as np\n",
        "import tensorflow as tf\n",
        "import sys\n",
        "import keras\n",
        "(x_train, y_train), (x_test, y_test) = tf.keras.datasets.mnist.load_data()\n",
        "print('Python version ', sys.version)\n",
        "print('Tensorflow version ', tf.__version__)\n",
        "print('Keras version', keras.__version__)"
      ],
      "execution_count": 2,
      "outputs": [
        {
          "output_type": "stream",
          "name": "stdout",
          "text": [
            "Python version  3.8.10 (default, Nov 14 2022, 12:59:47) \n",
            "[GCC 9.4.0]\n",
            "Tensorflow version  2.11.0\n",
            "Keras version 2.11.0\n"
          ]
        }
      ]
    },
    {
      "cell_type": "code",
      "metadata": {
        "colab": {
          "base_uri": "https://localhost:8080/",
          "height": 283
        },
        "id": "JaUGuF77qhx-",
        "outputId": "f8cb518d-24bc-4d8d-a19f-b295279b5e2a"
      },
      "source": [
        "import matplotlib.pyplot as plt\n",
        "#matplotlib inline # Only use this if using iPython\n",
        "image_index = np.random.randint(60000) #7777 # You may select anything up to 60,000\n",
        "print(y_train[image_index]) # The label is printed\n",
        "plt.imshow(x_train[image_index], cmap='Greys')\n",
        "plt.show()"
      ],
      "execution_count": 5,
      "outputs": [
        {
          "output_type": "stream",
          "name": "stdout",
          "text": [
            "9\n"
          ]
        },
        {
          "output_type": "display_data",
          "data": {
            "text/plain": [
              "<Figure size 432x288 with 1 Axes>"
            ],
            "image/png": "[encoded data removed]"
          },
          "metadata": {
            "needs_background": "light"
          }
        }
      ]
    },
    {
      "cell_type": "code",
      "metadata": {
        "colab": {
          "base_uri": "https://localhost:8080/"
        },
        "id": "j10iK8uEqhx-",
        "outputId": "3e9d7d1b-a053-4e5e-b7a3-f0df24c81c8d"
      },
      "source": [
        "# Reshaping the array to 4-dims so that it can work with the Keras API\n",
        "x_train = x_train.reshape(x_train.shape[0], 28, 28, 1)\n",
        "x_test = x_test.reshape(x_test.shape[0], 28, 28, 1)\n",
        "input_shape = (28, 28, 1)\n",
        "# Making sure that the values are float so that we can get decimal points after division\n",
        "x_train = x_train.astype('float32')\n",
        "x_test = x_test.astype('float32')\n",
        "# Normalizing the RGB codes by dividing it to the max RGB value.\n",
        "x_train /= 255\n",
        "x_test /= 255\n",
        "print('x_train shape:', x_train.shape)\n",
        "print('Number of images in x_train', x_train.shape[0])\n",
        "print('Number of images in x_test', x_test.shape[0])\n",
        "y_train.shape"
      ],
      "execution_count": 6,
      "outputs": [
        {
          "output_type": "stream",
          "name": "stdout",
          "text": [
            "x_train shape: (60000, 28, 28, 1)\n",
            "Number of images in x_train 60000\n",
            "Number of images in x_test 10000\n"
          ]
        },
        {
          "output_type": "execute_result",
          "data": {
            "text/plain": [
              "(60000,)"
            ]
          },
          "metadata": {},
          "execution_count": 6
        }
      ]
    },
    {
      "cell_type": "code",
      "metadata": {
        "id": "j1NHde-Kqhx-"
      },
      "source": [
        "# Importing the required Keras modules containing model and layers\n",
        "from keras.models import Sequential\n",
        "from keras.layers import Dense, Conv2D, Dropout, Flatten, MaxPooling2D\n",
        "# Creating a Sequential Model and adding the layers\n",
        "model = Sequential()\n",
        "layer1=Conv2D(28, kernel_size=(3,3), input_shape=input_shape)\n",
        "layer1.trainable=True\n",
        "model.add(layer1) # (3,3) for mnist\n",
        "model.add(MaxPooling2D(pool_size=(2, 2))) # (2,2) for mnist\n",
        "model.add(Flatten()) # Flattening the 2D arrays for fully connected layers\n",
        "layer2 = Dense(128, activation=tf.nn.relu,kernel_initializer='random_uniform')#glorot_uniform is by default\n",
        "layer2.trainable=True\n",
        "model.add(layer2)\n",
        "model.add(Dropout(0.2))\n",
        "model.add(Dense(10,activation=tf.nn.softmax))\n",
        "\n",
        "# for this model1, we have one of the dense layers at the end with trainable=False\n",
        "model1 = Sequential()\n",
        "layer11=Conv2D(28, kernel_size=(3,3), input_shape=input_shape)\n",
        "layer11.trainable=False\n",
        "model1.add(layer11) # (3,3) for mnist\n",
        "model1.add(MaxPooling2D(pool_size=(2, 2))) # (2,2) for mnist\n",
        "model1.add(Flatten()) # Flattening the 2D arrays for fully connected layers\n",
        "layer12 = Dense(128, activation=tf.nn.relu,kernel_initializer='random_uniform')#glorot_uniform is by default\n",
        "layer12.trainable=False\n",
        "model1.add(layer12)\n",
        "#model1.add(Dropout(0.2))\n",
        "model1.add(Dense(10,activation=tf.nn.softmax))\n",
        "\n",
        "model2 = Sequential()\n",
        "model2.add(Conv2D(30, (5, 5), input_shape=(28, 28, 1), activation='relu'))\n",
        "model2.add(MaxPooling2D(pool_size=(2, 2)))\n",
        "model2.add(Conv2D(15, (3, 3), activation='relu'))\n",
        "model2.add(MaxPooling2D(pool_size=(2, 2)))\n",
        "model2.add(Dropout(0.2))\n",
        "model2.add(Flatten())\n",
        "model2.add(Dense(128, activation='relu'))\n",
        "model2.add(Dense(50, activation='relu'))\n",
        "model2.add(Dense(10, activation='softmax'))\n",
        "\n",
        "# here the model does not forget the starting value\n",
        "#further, randomness plays a huge role"
      ],
      "execution_count": 8,
      "outputs": []
    },
    {
      "cell_type": "code",
      "metadata": {
        "colab": {
          "base_uri": "https://localhost:8080/"
        },
        "id": "QRw3Fpv0qhx_",
        "outputId": "e2b09559-d56d-4e09-8256-72c4e1a26c30"
      },
      "source": [
        "model.summary()\n",
        "#the function takes 607'394 input parameters which have to get optimized\n",
        "\n",
        "#model1.summary()\n",
        "#now we still have the same amount of parameters but a lot smaller number of trainable parameters\n",
        "#(this indicates that a lot of parameters are completely independent of the data but we still get relatively good results)"
      ],
      "execution_count": 9,
      "outputs": [
        {
          "output_type": "stream",
          "name": "stdout",
          "text": [
            "Model: \"sequential\"\n",
            "_________________________________________________________________\n",
            " Layer (type)                Output Shape              Param #   \n",
            "=================================================================\n",
            " conv2d (Conv2D)             (None, 26, 26, 28)        280       \n",
            "                                                                 \n",
            " max_pooling2d (MaxPooling2D  (None, 13, 13, 28)       0         \n",
            " )                                                               \n",
            "                                                                 \n",
            " flatten (Flatten)           (None, 4732)              0         \n",
            "                                                                 \n",
            " dense (Dense)               (None, 128)               605824    \n",
            "                                                                 \n",
            " dropout (Dropout)           (None, 128)               0         \n",
            "                                                                 \n",
            " dense_1 (Dense)             (None, 10)                1290      \n",
            "                                                                 \n",
            "=================================================================\n",
            "Total params: 607,394\n",
            "Trainable params: 607,394\n",
            "Non-trainable params: 0\n",
            "_________________________________________________________________\n"
          ]
        }
      ]
    },
    {
      "cell_type": "code",
      "metadata": {
        "colab": {
          "base_uri": "https://localhost:8080/"
        },
        "id": "oG7yCU8eqhx_",
        "outputId": "5151c6d0-7966-4602-a067-e32dd08b38a7"
      },
      "source": [
        "13*13*28*128+128"
      ],
      "execution_count": null,
      "outputs": [
        {
          "output_type": "execute_result",
          "data": {
            "text/plain": [
              "605824"
            ]
          },
          "metadata": {},
          "execution_count": 24
        }
      ]
    },
    {
      "cell_type": "code",
      "metadata": {
        "colab": {
          "base_uri": "https://localhost:8080/"
        },
        "id": "zEQJIR1jqhx_",
        "outputId": "27a4a410-46fc-4599-924a-d0dffc02cdb5"
      },
      "source": [
        "model.compile(optimizer='adam', \n",
        "              loss='sparse_categorical_crossentropy', \n",
        "              metrics=['accuracy'])\n",
        "for i in range(1):\n",
        "    model.fit(x=x_train,y=y_train, epochs=1)\n",
        "    x = model.evaluate(x_test, y_test)\n",
        "    print('\\n',x)"
      ],
      "execution_count": 10,
      "outputs": [
        {
          "output_type": "stream",
          "name": "stdout",
          "text": [
            "1875/1875 [==============================] - 42s 22ms/step - loss: 0.2057 - accuracy: 0.9379\n",
            "313/313 [==============================] - 3s 10ms/step - loss: 0.0774 - accuracy: 0.9761\n",
            "\n",
            " [0.07736513763666153, 0.9761000275611877]\n"
          ]
        }
      ]
    },
    {
      "cell_type": "code",
      "metadata": {
        "colab": {
          "base_uri": "https://localhost:8080/",
          "height": 1000
        },
        "id": "9FwaKQmYqhyA",
        "outputId": "89a52072-4ef9-42f4-e07e-76523eb08d21"
      },
      "source": [
        "img_rows=28\n",
        "img_cols=28\n",
        "count = 0\n",
        "for i in range(100):\n",
        "    image_index = np.random.randint(10000)\n",
        "    pred = model.predict(x_test[image_index].reshape(1, img_rows, img_cols, 1))\n",
        "    if (pred.argmax() != y_test[image_index]) :\n",
        "        plt.imshow(x_test[image_index].reshape(28, 28),cmap='Greys')\n",
        "        plt.show()\n",
        "        print('Prediction:',pred.argmax())\n",
        "        print('Ground Truth',y_test[image_index])\n",
        "        count = count + 1\n",
        "        #break\n",
        "print(count/100)"
      ],
      "execution_count": 11,
      "outputs": [
        {
          "output_type": "stream",
          "name": "stdout",
          "text": [
            "1/1 [==============================] - 0s 98ms/step\n",
            "1/1 [==============================] - 0s 25ms/step\n",
            "1/1 [==============================] - 0s 28ms/step\n",
            "1/1 [==============================] - 0s 28ms/step\n",
            "1/1 [==============================] - 0s 24ms/step\n",
            "1/1 [==============================] - 0s 23ms/step\n",
            "1/1 [==============================] - 0s 23ms/step\n",
            "1/1 [==============================] - 0s 22ms/step\n",
            "1/1 [==============================] - 0s 23ms/step\n",
            "1/1 [==============================] - 0s 26ms/step\n",
            "1/1 [==============================] - 0s 23ms/step\n",
            "1/1 [==============================] - 0s 26ms/step\n",
            "1/1 [==============================] - 0s 26ms/step\n",
            "1/1 [==============================] - 0s 23ms/step\n",
            "1/1 [==============================] - 0s 24ms/step\n",
            "1/1 [==============================] - 0s 30ms/step\n",
            "1/1 [==============================] - 0s 22ms/step\n",
            "1/1 [==============================] - 0s 23ms/step\n",
            "1/1 [==============================] - 0s 23ms/step\n",
            "1/1 [==============================] - 0s 23ms/step\n",
            "1/1 [==============================] - 0s 26ms/step\n",
            "1/1 [==============================] - 0s 26ms/step\n",
            "1/1 [==============================] - 0s 24ms/step\n",
            "1/1 [==============================] - 0s 24ms/step\n",
            "1/1 [==============================] - 0s 39ms/step\n",
            "1/1 [==============================] - 0s 38ms/step\n",
            "1/1 [==============================] - 0s 83ms/step\n",
            "1/1 [==============================] - 0s 112ms/step\n",
            "1/1 [==============================] - 0s 77ms/step\n",
            "1/1 [==============================] - 0s 123ms/step\n",
            "1/1 [==============================] - 0s 95ms/step\n",
            "1/1 [==============================] - 0s 131ms/step\n",
            "1/1 [==============================] - 0s 135ms/step\n"
          ]
        },
        {
          "output_type": "display_data",
          "data": {
            "text/plain": [
              "<Figure size 432x288 with 1 Axes>"
            ],
            "image/png": "[encoded data removed]"
          },
          "metadata": {
            "needs_background": "light"
          }
        },
        {
          "output_type": "stream",
          "name": "stdout",
          "text": [
            "Prediction: 4\n",
            "Ground Truth 9\n",
            "1/1 [==============================] - 0s 149ms/step\n",
            "1/1 [==============================] - 0s 44ms/step\n",
            "1/1 [==============================] - 0s 76ms/step\n",
            "1/1 [==============================] - 0s 78ms/step\n",
            "1/1 [==============================] - 0s 39ms/step\n",
            "1/1 [==============================] - 0s 48ms/step\n",
            "1/1 [==============================] - 0s 60ms/step\n",
            "1/1 [==============================] - 0s 35ms/step\n",
            "1/1 [==============================] - 0s 42ms/step\n",
            "1/1 [==============================] - 0s 38ms/step\n",
            "1/1 [==============================] - 0s 45ms/step\n",
            "1/1 [==============================] - 0s 40ms/step\n",
            "1/1 [==============================] - 0s 42ms/step\n",
            "1/1 [==============================] - 0s 88ms/step\n",
            "1/1 [==============================] - 0s 46ms/step\n",
            "1/1 [==============================] - 0s 44ms/step\n",
            "1/1 [==============================] - 0s 43ms/step\n",
            "1/1 [==============================] - 0s 47ms/step\n",
            "1/1 [==============================] - 0s 63ms/step\n",
            "1/1 [==============================] - 0s 50ms/step\n",
            "1/1 [==============================] - 0s 40ms/step\n",
            "1/1 [==============================] - 0s 48ms/step\n",
            "1/1 [==============================] - 0s 24ms/step\n",
            "1/1 [==============================] - 0s 30ms/step\n",
            "1/1 [==============================] - 0s 24ms/step\n",
            "1/1 [==============================] - 0s 25ms/step\n",
            "1/1 [==============================] - 0s 23ms/step\n",
            "1/1 [==============================] - 0s 25ms/step\n",
            "1/1 [==============================] - 0s 24ms/step\n",
            "1/1 [==============================] - 0s 23ms/step\n",
            "1/1 [==============================] - 0s 24ms/step\n",
            "1/1 [==============================] - 0s 25ms/step\n"
          ]
        },
        {
          "output_type": "display_data",
          "data": {
            "text/plain": [
              "<Figure size 432x288 with 1 Axes>"
            ],
            "image/png": "[encoded data removed]"
          },
          "metadata": {
            "needs_background": "light"
          }
        },
        {
          "output_type": "stream",
          "name": "stdout",
          "text": [
            "Prediction: 1\n",
            "Ground Truth 6\n",
            "1/1 [==============================] - 0s 29ms/step\n",
            "1/1 [==============================] - 0s 23ms/step\n",
            "1/1 [==============================] - 0s 28ms/step\n",
            "1/1 [==============================] - 0s 24ms/step\n",
            "1/1 [==============================] - 0s 22ms/step\n",
            "1/1 [==============================] - 0s 22ms/step\n",
            "1/1 [==============================] - 0s 27ms/step\n",
            "1/1 [==============================] - 0s 24ms/step\n",
            "1/1 [==============================] - 0s 23ms/step\n",
            "1/1 [==============================] - 0s 25ms/step\n",
            "1/1 [==============================] - 0s 29ms/step\n"
          ]
        },
        {
          "output_type": "display_data",
          "data": {
            "text/plain": [
              "<Figure size 432x288 with 1 Axes>"
            ],
            "image/png": "[encoded data removed]"
          },
          "metadata": {
            "needs_background": "light"
          }
        },
        {
          "output_type": "stream",
          "name": "stdout",
          "text": [
            "Prediction: 8\n",
            "Ground Truth 2\n",
            "1/1 [==============================] - 0s 25ms/step\n",
            "1/1 [==============================] - 0s 32ms/step\n",
            "1/1 [==============================] - 0s 25ms/step\n",
            "1/1 [==============================] - 0s 24ms/step\n",
            "1/1 [==============================] - 0s 23ms/step\n",
            "1/1 [==============================] - 0s 23ms/step\n",
            "1/1 [==============================] - 0s 24ms/step\n",
            "1/1 [==============================] - 0s 25ms/step\n",
            "1/1 [==============================] - 0s 24ms/step\n",
            "1/1 [==============================] - 0s 26ms/step\n",
            "1/1 [==============================] - 0s 24ms/step\n",
            "1/1 [==============================] - 0s 24ms/step\n",
            "1/1 [==============================] - 0s 24ms/step\n",
            "1/1 [==============================] - 0s 24ms/step\n",
            "1/1 [==============================] - 0s 30ms/step\n",
            "1/1 [==============================] - 0s 25ms/step\n",
            "1/1 [==============================] - 0s 26ms/step\n",
            "1/1 [==============================] - 0s 25ms/step\n",
            "1/1 [==============================] - 0s 26ms/step\n",
            "1/1 [==============================] - 0s 27ms/step\n",
            "1/1 [==============================] - 0s 25ms/step\n",
            "1/1 [==============================] - 0s 23ms/step\n",
            "1/1 [==============================] - 0s 23ms/step\n",
            "1/1 [==============================] - 0s 27ms/step\n",
            "0.03\n"
          ]
        }
      ]
    },
    {
      "cell_type": "code",
      "metadata": {
        "id": "1UivvATYqhyA",
        "colab": {
          "base_uri": "https://localhost:8080/"
        },
        "outputId": "33138b91-8038-44b7-f071-861e5c8b813a"
      },
      "source": [
        "model1.compile(optimizer='adam', \n",
        "              loss='sparse_categorical_crossentropy', \n",
        "              metrics=['accuracy'])\n",
        "for i in range(5):\n",
        "    model1.fit(x=x_train,y=y_train, epochs=1)\n",
        "    x = model1.evaluate(x_test, y_test)\n",
        "    print('\\n',x)"
      ],
      "execution_count": null,
      "outputs": [
        {
          "output_type": "stream",
          "name": "stdout",
          "text": [
            "1875/1875 [==============================] - 15s 8ms/step - loss: 1.3092 - accuracy: 0.7482\n",
            "313/313 [==============================] - 4s 11ms/step - loss: 0.8190 - accuracy: 0.8384\n",
            "\n",
            " [0.8189679980278015, 0.8384000062942505]\n",
            "1875/1875 [==============================] - 15s 8ms/step - loss: 0.6966 - accuracy: 0.8447\n",
            "313/313 [==============================] - 3s 8ms/step - loss: 0.5779 - accuracy: 0.8696\n",
            "\n",
            " [0.5779423117637634, 0.8695999979972839]\n",
            "1875/1875 [==============================] - 14s 8ms/step - loss: 0.5472 - accuracy: 0.8636\n",
            "313/313 [==============================] - 2s 8ms/step - loss: 0.4864 - accuracy: 0.8809\n",
            "\n",
            " [0.4864216446876526, 0.8809000253677368]\n",
            "1875/1875 [==============================] - 14s 8ms/step - loss: 0.4799 - accuracy: 0.8736\n",
            "313/313 [==============================] - 2s 8ms/step - loss: 0.4380 - accuracy: 0.8872\n",
            "\n",
            " [0.4379672408103943, 0.8871999979019165]\n",
            "1875/1875 [==============================] - 15s 8ms/step - loss: 0.4412 - accuracy: 0.8808\n",
            "313/313 [==============================] - 2s 7ms/step - loss: 0.4074 - accuracy: 0.8919\n",
            "\n",
            " [0.40740537643432617, 0.8919000029563904]\n"
          ]
        }
      ]
    },
    {
      "cell_type": "code",
      "metadata": {
        "id": "JDDlWcUhqhyB",
        "colab": {
          "base_uri": "https://localhost:8080/"
        },
        "outputId": "fd25be33-afbd-447f-c4ea-c90ab2307cb9"
      },
      "source": [
        "model2.compile(optimizer='adam', \n",
        "              loss='sparse_categorical_crossentropy', \n",
        "              metrics=['accuracy'])\n",
        "for i in range(5):\n",
        "    model2.fit(x=x_train,y=y_train, epochs=1)\n",
        "    x = model2.evaluate(x_test, y_test)\n",
        "    print('\\n',x)"
      ],
      "execution_count": null,
      "outputs": [
        {
          "output_type": "stream",
          "name": "stdout",
          "text": [
            "1875/1875 [==============================] - 47s 25ms/step - loss: 0.2049 - accuracy: 0.9351\n",
            "313/313 [==============================] - 3s 9ms/step - loss: 0.0516 - accuracy: 0.9837\n",
            "\n",
            " [0.051589515060186386, 0.9836999773979187]\n",
            "1875/1875 [==============================] - 50s 27ms/step - loss: 0.0700 - accuracy: 0.9782\n",
            "313/313 [==============================] - 3s 9ms/step - loss: 0.0399 - accuracy: 0.9863\n",
            "\n",
            " [0.039865557104349136, 0.986299991607666]\n",
            "1875/1875 [==============================] - 52s 28ms/step - loss: 0.0541 - accuracy: 0.9833\n",
            "313/313 [==============================] - 3s 9ms/step - loss: 0.0346 - accuracy: 0.9895\n",
            "\n",
            " [0.0345982201397419, 0.9894999861717224]\n",
            "1875/1875 [==============================] - 50s 27ms/step - loss: 0.0441 - accuracy: 0.9865\n",
            "313/313 [==============================] - 3s 10ms/step - loss: 0.0394 - accuracy: 0.9876\n",
            "\n",
            " [0.03937483951449394, 0.9876000285148621]\n",
            "1875/1875 [==============================] - 52s 28ms/step - loss: 0.0372 - accuracy: 0.9881\n",
            "313/313 [==============================] - 3s 9ms/step - loss: 0.0325 - accuracy: 0.9895\n",
            "\n",
            " [0.03250288590788841, 0.9894999861717224]\n"
          ]
        }
      ]
    },
    {
      "cell_type": "markdown",
      "metadata": {
        "id": "4WjQ00n_qhyB"
      },
      "source": [
        "In the sequel all three models are compared and the erroneous classifications drawn."
      ]
    },
    {
      "cell_type": "code",
      "metadata": {
        "id": "7_SoJn4pqhyB",
        "colab": {
          "base_uri": "https://localhost:8080/",
          "height": 1000
        },
        "outputId": "68735671-b652-4867-c3e3-e9b11cfd7bb6"
      },
      "source": [
        "img_rows=28\n",
        "img_cols=28\n",
        "count = 0\n",
        "for i in range(100):\n",
        "    image_index = np.random.randint(10000)\n",
        "    pred = model.predict(x_test[image_index].reshape(1, img_rows, img_cols, 1))\n",
        "    pred1 = model1.predict(x_test[image_index].reshape(1, img_rows, img_cols, 1))\n",
        "    pred2 = model2.predict(x_test[image_index].reshape(1, img_rows, img_cols, 1))\n",
        "    if (pred.argmax() != y_test[image_index]) or (pred1.argmax() != y_test[image_index]) or (pred2.argmax() != y_test[image_index]) :\n",
        "        plt.imshow(x_test[image_index].reshape(28, 28),cmap='Greys')\n",
        "        plt.show()\n",
        "        print('Prediction:',pred.argmax())\n",
        "        print('Prediction 1:',pred1.argmax())\n",
        "        print('Prediction 2:',pred2.argmax())\n",
        "        print('Ground Truth',y_test[image_index])\n",
        "        count = count + 1\n",
        "        #break\n",
        "print(count/100)"
      ],
      "execution_count": null,
      "outputs": [
        {
          "output_type": "display_data",
          "data": {
            "text/plain": [
              "<Figure size 432x288 with 1 Axes>"
            ],
            "image/png": "[encoded data removed]"
          },
          "metadata": {
            "needs_background": "light"
          }
        },
        {
          "output_type": "stream",
          "name": "stdout",
          "text": [
            "Prediction: 2\n",
            "Prediction 1: 4\n",
            "Prediction 2: 2\n",
            "Ground Truth 2\n"
          ]
        },
        {
          "output_type": "display_data",
          "data": {
            "text/plain": [
              "<Figure size 432x288 with 1 Axes>"
            ],
            "image/png": "[encoded data removed]"
          },
          "metadata": {
            "needs_background": "light"
          }
        },
        {
          "output_type": "stream",
          "name": "stdout",
          "text": [
            "Prediction: 7\n",
            "Prediction 1: 9\n",
            "Prediction 2: 7\n",
            "Ground Truth 7\n"
          ]
        },
        {
          "output_type": "display_data",
          "data": {
            "text/plain": [
              "<Figure size 432x288 with 1 Axes>"
            ],
            "image/png": "[encoded data removed]"
          },
          "metadata": {
            "needs_background": "light"
          }
        },
        {
          "output_type": "stream",
          "name": "stdout",
          "text": [
            "Prediction: 2\n",
            "Prediction 1: 8\n",
            "Prediction 2: 2\n",
            "Ground Truth 2\n"
          ]
        },
        {
          "output_type": "display_data",
          "data": {
            "text/plain": [
              "<Figure size 432x288 with 1 Axes>"
            ],
            "image/png": "[encoded data removed]"
          },
          "metadata": {
            "needs_background": "light"
          }
        },
        {
          "output_type": "stream",
          "name": "stdout",
          "text": [
            "Prediction: 6\n",
            "Prediction 1: 6\n",
            "Prediction 2: 0\n",
            "Ground Truth 0\n"
          ]
        },
        {
          "output_type": "display_data",
          "data": {
            "text/plain": [
              "<Figure size 432x288 with 1 Axes>"
            ],
            "image/png": "[encoded data removed]"
          },
          "metadata": {
            "needs_background": "light"
          }
        },
        {
          "output_type": "stream",
          "name": "stdout",
          "text": [
            "Prediction: 7\n",
            "Prediction 1: 1\n",
            "Prediction 2: 7\n",
            "Ground Truth 7\n"
          ]
        },
        {
          "output_type": "display_data",
          "data": {
            "text/plain": [
              "<Figure size 432x288 with 1 Axes>"
            ],
            "image/png": "[encoded data removed]"
          },
          "metadata": {
            "needs_background": "light"
          }
        },
        {
          "output_type": "stream",
          "name": "stdout",
          "text": [
            "Prediction: 0\n",
            "Prediction 1: 3\n",
            "Prediction 2: 0\n",
            "Ground Truth 0\n"
          ]
        },
        {
          "output_type": "display_data",
          "data": {
            "text/plain": [
              "<Figure size 432x288 with 1 Axes>"
            ],
            "image/png": "[encoded data removed]"
          },
          "metadata": {
            "needs_background": "light"
          }
        },
        {
          "output_type": "stream",
          "name": "stdout",
          "text": [
            "Prediction: 3\n",
            "Prediction 1: 3\n",
            "Prediction 2: 3\n",
            "Ground Truth 5\n"
          ]
        },
        {
          "output_type": "display_data",
          "data": {
            "text/plain": [
              "<Figure size 432x288 with 1 Axes>"
            ],
            "image/png": "[encoded data removed]"
          },
          "metadata": {
            "needs_background": "light"
          }
        },
        {
          "output_type": "stream",
          "name": "stdout",
          "text": [
            "Prediction: 6\n",
            "Prediction 1: 2\n",
            "Prediction 2: 2\n",
            "Ground Truth 2\n"
          ]
        },
        {
          "output_type": "display_data",
          "data": {
            "text/plain": [
              "<Figure size 432x288 with 1 Axes>"
            ],
            "image/png": "[encoded data removed]"
          },
          "metadata": {
            "needs_background": "light"
          }
        },
        {
          "output_type": "stream",
          "name": "stdout",
          "text": [
            "Prediction: 5\n",
            "Prediction 1: 8\n",
            "Prediction 2: 5\n",
            "Ground Truth 5\n"
          ]
        },
        {
          "output_type": "display_data",
          "data": {
            "text/plain": [
              "<Figure size 432x288 with 1 Axes>"
            ],
            "image/png": "[encoded data removed]"
          },
          "metadata": {
            "needs_background": "light"
          }
        },
        {
          "output_type": "stream",
          "name": "stdout",
          "text": [
            "Prediction: 2\n",
            "Prediction 1: 4\n",
            "Prediction 2: 2\n",
            "Ground Truth 2\n"
          ]
        },
        {
          "output_type": "display_data",
          "data": {
            "text/plain": [
              "<Figure size 432x288 with 1 Axes>"
            ],
            "image/png": "[encoded data removed]"
          },
          "metadata": {
            "needs_background": "light"
          }
        },
        {
          "output_type": "stream",
          "name": "stdout",
          "text": [
            "Prediction: 3\n",
            "Prediction 1: 2\n",
            "Prediction 2: 3\n",
            "Ground Truth 3\n"
          ]
        },
        {
          "output_type": "display_data",
          "data": {
            "text/plain": [
              "<Figure size 432x288 with 1 Axes>"
            ],
            "image/png": "[encoded data removed]"
          },
          "metadata": {
            "needs_background": "light"
          }
        },
        {
          "output_type": "stream",
          "name": "stdout",
          "text": [
            "Prediction: 2\n",
            "Prediction 1: 8\n",
            "Prediction 2: 2\n",
            "Ground Truth 2\n"
          ]
        },
        {
          "output_type": "display_data",
          "data": {
            "text/plain": [
              "<Figure size 432x288 with 1 Axes>"
            ],
            "image/png": "[encoded data removed]"
          },
          "metadata": {
            "needs_background": "light"
          }
        },
        {
          "output_type": "stream",
          "name": "stdout",
          "text": [
            "Prediction: 6\n",
            "Prediction 1: 8\n",
            "Prediction 2: 8\n",
            "Ground Truth 8\n"
          ]
        },
        {
          "output_type": "display_data",
          "data": {
            "text/plain": [
              "<Figure size 432x288 with 1 Axes>"
            ],
            "image/png": "[encoded data removed]"
          },
          "metadata": {
            "needs_background": "light"
          }
        },
        {
          "output_type": "stream",
          "name": "stdout",
          "text": [
            "Prediction: 7\n",
            "Prediction 1: 1\n",
            "Prediction 2: 7\n",
            "Ground Truth 7\n",
            "0.14\n"
          ]
        }
      ]
    },
    {
      "cell_type": "markdown",
      "metadata": {
        "collapsed": true,
        "id": "jgNEhfzhqhyB"
      },
      "source": [
        "What happened here? It is as simple as fascinating.\n",
        "\n",
        "A parametrized family of functions (a so called neural network) has been constructed. The functions take as input the picture of the handwritten digits (28 times 28 pixels) and produce an output which corresponds to its value. The parameters of the function are trained on 60000 training pictures and then tested on 10000 test pictures."
      ]
    },
    {
      "cell_type": "code",
      "metadata": {
        "id": "H0F0a8dqqhyC",
        "colab": {
          "base_uri": "https://localhost:8080/"
        },
        "outputId": "b4dfab56-da2a-45d5-f5eb-967576553d4d"
      },
      "source": [
        "print(model.count_params())"
      ],
      "execution_count": null,
      "outputs": [
        {
          "output_type": "stream",
          "name": "stdout",
          "text": [
            "607394\n"
          ]
        }
      ]
    },
    {
      "cell_type": "markdown",
      "metadata": {
        "id": "MTjz1ZGPqhyC"
      },
      "source": [
        "An amazing amount of parameters is trained in some of the models ... "
      ]
    },
    {
      "cell_type": "markdown",
      "metadata": {
        "id": "Mw3aLKpcqhyC"
      },
      "source": [
        "Or look at the following task which is less accessible for human beings but more important in investment universes."
      ]
    },
    {
      "cell_type": "code",
      "metadata": {
        "colab": {
          "base_uri": "https://localhost:8080/"
        },
        "id": "imXVppXa4sTp",
        "outputId": "dd006ab3-9f33-4d4c-c92e-c0c578bae397"
      },
      "source": [
        "from google.colab import drive\n",
        "drive.mount('/content/drive')\n",
        "%cd /content/drive/My Drive/Colab Notebooks/\n",
        "%ls\n",
        "x_trainlr = np.load('x_trainlr.npy')\n",
        "y_trainlr = np.load('y_trainlr.npy')\n",
        "x_testlr = np.load('x_testlr.npy')\n",
        "y_testlr = np.load('y_testlr.npy')"
      ],
      "execution_count": null,
      "outputs": [
        {
          "output_type": "stream",
          "name": "stdout",
          "text": [
            "Mounted at /content/drive\n",
            "/content/drive/My Drive/Colab Notebooks\n",
            " 11_SearchingForAnswers.ipynb\n",
            " BM_Riccati.ipynb\n",
            " CAS_interest_rates_202112.ipynb\n",
            "'Copy of Making the Most of your Colab Subscription'\n",
            "'deep_hedging_bs_conditionalrewards (1).ipynb'\n",
            "'deep_hedging_bs_conditionalrewards (2).ipynb'\n",
            " deep_hedging_bs_conditionalrewards.ipynb\n",
            " DeepHedging_EstimateNothing.ipynb\n",
            " deep_portfolio_optimization_keras_merton.ipynb\n",
            " deep_portfolio_optimization_transaction_costs.ipynb\n",
            " heston_calibration.ipynb\n",
            " intro_to_ann.csv\n",
            "'josefTalk2 (1).ipynb'\n",
            "'josefTalk2 (2).ipynb'\n",
            " josefTalk2.ipynb\n",
            " lecture_1_fs2020.ipynb\n",
            " lecture_1_fs2021.ipynb\n",
            " lecture_2_fs2021.ipynb\n",
            "'lecture_3_fs2021 (1).ipynb'\n",
            " lecture_3_fs2021.ipynb\n",
            "'lecture_7_fs2020 (1).ipynb'\n",
            " lecture_7_fs2020.ipynb\n",
            " lecture_8_fs2020.ipynb\n",
            " lsv_calibration.ipynb\n",
            " notebook5.ipynb\n",
            " Personal_copy_FinRL_multiple_stock_trading.ipynb\n",
            " probability_inf_fs2020.ipynb\n",
            " SigDFP_giulia.ipynb\n",
            " simple_task.ipynb\n",
            " x_testlr.npy\n",
            " x_trainlr.npy\n",
            " y_testlr.npy\n",
            " y_trainlr.npy\n"
          ]
        }
      ]
    },
    {
      "cell_type": "code",
      "metadata": {
        "id": "zjqEZejxqhyC",
        "colab": {
          "base_uri": "https://localhost:8080/",
          "height": 513
        },
        "outputId": "087472d1-c9dd-4e90-91c4-697996ddc731"
      },
      "source": [
        "plt.imshow(x_trainlr[3000].reshape(28, 28),cmap='Greys')\n",
        "plt.show()\n",
        "plt.imshow(x_trainlr[33000].reshape(28, 28),cmap='Greys')\n",
        "plt.show()"
      ],
      "execution_count": null,
      "outputs": [
        {
          "output_type": "display_data",
          "data": {
            "text/plain": [
              "<Figure size 432x288 with 1 Axes>"
            ],
            "image/png": "[encoded data removed]"
          },
          "metadata": {
            "needs_background": "light"
          }
        },
        {
          "output_type": "display_data",
          "data": {
            "text/plain": [
              "<Figure size 432x288 with 1 Axes>"
            ],
            "image/png": "[encoded data removed]"
          },
          "metadata": {
            "needs_background": "light"
          }
        }
      ]
    },
    {
      "cell_type": "code",
      "metadata": {
        "id": "R0gq77neqhyD"
      },
      "source": [
        "# Importing the required Keras modules containing model and layers\n",
        "from keras.models import Sequential\n",
        "from keras.layers import Dense, Conv2D, Dropout, Flatten, MaxPooling2D\n",
        "# Creating a Sequential Model and adding the layers\n",
        "modellr = Sequential()\n",
        "modellr.add(Conv2D(28, kernel_size=(1,10), input_shape=input_shape)) # (3,3) for mnist\n",
        "modellr.add(MaxPooling2D(pool_size=(1, 7))) # (2,2) for mnist\n",
        "modellr.add(Flatten()) # Flattening the 2D arrays for fully connected layers\n",
        "modellr.add(Dense(128, activation=tf.nn.relu))\n",
        "modellr.add(Dense(128, activation=tf.nn.relu))\n",
        "modellr.add(Dropout(0.1))\n",
        "modellr.add(Dense(2,activation=tf.nn.softmax))"
      ],
      "execution_count": null,
      "outputs": []
    },
    {
      "cell_type": "code",
      "metadata": {
        "id": "zCHaFv-hqhyD",
        "colab": {
          "base_uri": "https://localhost:8080/"
        },
        "outputId": "1ee59cba-6ae5-4f16-e4de-6283ee97df9f"
      },
      "source": [
        "modellr.compile(optimizer='adam', \n",
        "              loss='sparse_categorical_crossentropy', \n",
        "              metrics=['accuracy'])\n",
        "for i in range(5):\n",
        "    modellr.fit(x=x_trainlr,y=y_trainlr, epochs=1)\n",
        "    x = modellr.evaluate(x_testlr, y_testlr)\n",
        "    print('\\n',x)"
      ],
      "execution_count": null,
      "outputs": [
        {
          "output_type": "stream",
          "name": "stdout",
          "text": [
            "1875/1875 [==============================] - 25s 13ms/step - loss: 0.6384 - accuracy: 0.6022\n",
            "313/313 [==============================] - 2s 6ms/step - loss: 0.5146 - accuracy: 0.7387\n",
            "\n",
            " [0.5146342515945435, 0.7386999726295471]\n",
            "1875/1875 [==============================] - 25s 13ms/step - loss: 0.4646 - accuracy: 0.7720\n",
            "313/313 [==============================] - 2s 6ms/step - loss: 0.4746 - accuracy: 0.7692\n",
            "\n",
            " [0.4745731055736542, 0.7692000269889832]\n",
            "1875/1875 [==============================] - 24s 13ms/step - loss: 0.3833 - accuracy: 0.8278\n",
            "313/313 [==============================] - 2s 5ms/step - loss: 0.4765 - accuracy: 0.7755\n",
            "\n",
            " [0.4764927327632904, 0.7754999995231628]\n",
            "1875/1875 [==============================] - 25s 13ms/step - loss: 0.2937 - accuracy: 0.8796\n",
            "313/313 [==============================] - 2s 5ms/step - loss: 0.5382 - accuracy: 0.7596\n",
            "\n",
            " [0.5381960272789001, 0.7595999836921692]\n",
            "1875/1875 [==============================] - 24s 13ms/step - loss: 0.2076 - accuracy: 0.9217\n",
            "313/313 [==============================] - 2s 5ms/step - loss: 0.7120 - accuracy: 0.7456\n",
            "\n",
            " [0.7119673490524292, 0.7455999851226807]\n"
          ]
        }
      ]
    },
    {
      "cell_type": "code",
      "metadata": {
        "id": "3WBV71HKqhyD",
        "colab": {
          "base_uri": "https://localhost:8080/",
          "height": 1000
        },
        "outputId": "0df66de7-c39c-4ddc-9877-6a5160871076"
      },
      "source": [
        "img_rows=28\n",
        "img_cols=28\n",
        "count = 0\n",
        "for i in range(100):\n",
        "    image_index = np.random.randint(10000)\n",
        "    pred = modellr.predict(x_testlr[image_index].reshape(1, img_rows, img_cols, 1))\n",
        "    if pred.argmax() != y_testlr[image_index]:\n",
        "        plt.imshow(x_testlr[image_index].reshape(28, 28),cmap='Greys')\n",
        "        plt.show()\n",
        "        print('Prediction',pred.argmax())\n",
        "        print('Ground Truth',y_testlr[image_index])\n",
        "        count = count + 1\n",
        "        #break\n",
        "print(count/100)"
      ],
      "execution_count": null,
      "outputs": [
        {
          "output_type": "display_data",
          "data": {
            "text/plain": [
              "<Figure size 432x288 with 1 Axes>"
            ],
            "image/png": "[encoded data removed]"
          },
          "metadata": {
            "needs_background": "light"
          }
        },
        {
          "output_type": "stream",
          "name": "stdout",
          "text": [
            "Prediction 0\n",
            "Ground Truth 1\n"
          ]
        },
        {
          "output_type": "display_data",
          "data": {
            "text/plain": [
              "<Figure size 432x288 with 1 Axes>"
            ],
            "image/png": "[encoded data removed]"
          },
          "metadata": {
            "needs_background": "light"
          }
        },
        {
          "output_type": "stream",
          "name": "stdout",
          "text": [
            "Prediction 1\n",
            "Ground Truth 0\n"
          ]
        },
        {
          "output_type": "display_data",
          "data": {
            "text/plain": [
              "<Figure size 432x288 with 1 Axes>"
            ],
            "image/png": "[encoded data removed]"
          },
          "metadata": {
            "needs_background": "light"
          }
        },
        {
          "output_type": "stream",
          "name": "stdout",
          "text": [
            "Prediction 0\n",
            "Ground Truth 1\n"
          ]
        },
        {
          "output_type": "display_data",
          "data": {
            "text/plain": [
              "<Figure size 432x288 with 1 Axes>"
            ],
            "image/png": "[encoded data removed]"
          },
          "metadata": {
            "needs_background": "light"
          }
        },
        {
          "output_type": "stream",
          "name": "stdout",
          "text": [
            "Prediction 1\n",
            "Ground Truth 0\n"
          ]
        },
        {
          "output_type": "display_data",
          "data": {
            "text/plain": [
              "<Figure size 432x288 with 1 Axes>"
            ],
            "image/png": "[encoded data removed]"
          },
          "metadata": {
            "needs_background": "light"
          }
        },
        {
          "output_type": "stream",
          "name": "stdout",
          "text": [
            "Prediction 0\n",
            "Ground Truth 1\n"
          ]
        },
        {
          "output_type": "display_data",
          "data": {
            "text/plain": [
              "<Figure size 432x288 with 1 Axes>"
            ],
            "image/png": "[encoded data removed]"
          },
          "metadata": {
            "needs_background": "light"
          }
        },
        {
          "output_type": "stream",
          "name": "stdout",
          "text": [
            "Prediction 1\n",
            "Ground Truth 0\n"
          ]
        },
        {
          "output_type": "display_data",
          "data": {
            "text/plain": [
              "<Figure size 432x288 with 1 Axes>"
            ],
            "image/png": "[encoded data removed]"
          },
          "metadata": {
            "needs_background": "light"
          }
        },
        {
          "output_type": "stream",
          "name": "stdout",
          "text": [
            "Prediction 1\n",
            "Ground Truth 0\n"
          ]
        },
        {
          "output_type": "display_data",
          "data": {
            "text/plain": [
              "<Figure size 432x288 with 1 Axes>"
            ],
            "image/png": "[encoded data removed]"
          },
          "metadata": {
            "needs_background": "light"
          }
        },
        {
          "output_type": "stream",
          "name": "stdout",
          "text": [
            "Prediction 1\n",
            "Ground Truth 0\n"
          ]
        },
        {
          "output_type": "display_data",
          "data": {
            "text/plain": [
              "<Figure size 432x288 with 1 Axes>"
            ],
            "image/png": "[encoded data removed]"
          },
          "metadata": {
            "needs_background": "light"
          }
        },
        {
          "output_type": "stream",
          "name": "stdout",
          "text": [
            "Prediction 1\n",
            "Ground Truth 0\n"
          ]
        },
        {
          "output_type": "display_data",
          "data": {
            "text/plain": [
              "<Figure size 432x288 with 1 Axes>"
            ],
            "image/png": "[encoded data removed]"
          },
          "metadata": {
            "needs_background": "light"
          }
        },
        {
          "output_type": "stream",
          "name": "stdout",
          "text": [
            "Prediction 0\n",
            "Ground Truth 1\n"
          ]
        },
        {
          "output_type": "display_data",
          "data": {
            "text/plain": [
              "<Figure size 432x288 with 1 Axes>"
            ],
            "image/png": "[encoded data removed]"
          },
          "metadata": {
            "needs_background": "light"
          }
        },
        {
          "output_type": "stream",
          "name": "stdout",
          "text": [
            "Prediction 1\n",
            "Ground Truth 0\n"
          ]
        },
        {
          "output_type": "display_data",
          "data": {
            "text/plain": [
              "<Figure size 432x288 with 1 Axes>"
            ],
            "image/png": "[encoded data removed]"
          },
          "metadata": {
            "needs_background": "light"
          }
        },
        {
          "output_type": "stream",
          "name": "stdout",
          "text": [
            "Prediction 1\n",
            "Ground Truth 0\n"
          ]
        },
        {
          "output_type": "display_data",
          "data": {
            "text/plain": [
              "<Figure size 432x288 with 1 Axes>"
            ],
            "image/png": "[encoded data removed]"
          },
          "metadata": {
            "needs_background": "light"
          }
        },
        {
          "output_type": "stream",
          "name": "stdout",
          "text": [
            "Prediction 0\n",
            "Ground Truth 1\n"
          ]
        },
        {
          "output_type": "display_data",
          "data": {
            "text/plain": [
              "<Figure size 432x288 with 1 Axes>"
            ],
            "image/png": "[encoded data removed]"
          },
          "metadata": {
            "needs_background": "light"
          }
        },
        {
          "output_type": "stream",
          "name": "stdout",
          "text": [
            "Prediction 1\n",
            "Ground Truth 0\n"
          ]
        },
        {
          "output_type": "display_data",
          "data": {
            "text/plain": [
              "<Figure size 432x288 with 1 Axes>"
            ],
            "image/png": "[encoded data removed]"
          },
          "metadata": {
            "needs_background": "light"
          }
        },
        {
          "output_type": "stream",
          "name": "stdout",
          "text": [
            "Prediction 0\n",
            "Ground Truth 1\n"
          ]
        },
        {
          "output_type": "display_data",
          "data": {
            "text/plain": [
              "<Figure size 432x288 with 1 Axes>"
            ],
            "image/png": "[encoded data removed]"
          },
          "metadata": {
            "needs_background": "light"
          }
        },
        {
          "output_type": "stream",
          "name": "stdout",
          "text": [
            "Prediction 1\n",
            "Ground Truth 0\n"
          ]
        },
        {
          "output_type": "display_data",
          "data": {
            "text/plain": [
              "<Figure size 432x288 with 1 Axes>"
            ],
            "image/png": "[encoded data removed]"
          },
          "metadata": {
            "needs_background": "light"
          }
        },
        {
          "output_type": "stream",
          "name": "stdout",
          "text": [
            "Prediction 1\n",
            "Ground Truth 0\n"
          ]
        },
        {
          "output_type": "display_data",
          "data": {
            "text/plain": [
              "<Figure size 432x288 with 1 Axes>"
            ],
            "image/png": "[encoded data removed]"
          },
          "metadata": {
            "needs_background": "light"
          }
        },
        {
          "output_type": "stream",
          "name": "stdout",
          "text": [
            "Prediction 1\n",
            "Ground Truth 0\n"
          ]
        },
        {
          "output_type": "display_data",
          "data": {
            "text/plain": [
              "<Figure size 432x288 with 1 Axes>"
            ],
            "image/png": "[encoded data removed]"
          },
          "metadata": {
            "needs_background": "light"
          }
        },
        {
          "output_type": "stream",
          "name": "stdout",
          "text": [
            "Prediction 1\n",
            "Ground Truth 0\n"
          ]
        },
        {
          "output_type": "display_data",
          "data": {
            "text/plain": [
              "<Figure size 432x288 with 1 Axes>"
            ],
            "image/png": "[encoded data removed]"
          },
          "metadata": {
            "needs_background": "light"
          }
        },
        {
          "output_type": "stream",
          "name": "stdout",
          "text": [
            "Prediction 0\n",
            "Ground Truth 1\n"
          ]
        },
        {
          "output_type": "display_data",
          "data": {
            "text/plain": [
              "<Figure size 432x288 with 1 Axes>"
            ],
            "image/png": "[encoded data removed]"
          },
          "metadata": {
            "needs_background": "light"
          }
        },
        {
          "output_type": "stream",
          "name": "stdout",
          "text": [
            "Prediction 1\n",
            "Ground Truth 0\n"
          ]
        },
        {
          "output_type": "display_data",
          "data": {
            "text/plain": [
              "<Figure size 432x288 with 1 Axes>"
            ],
            "image/png": "[encoded data removed]"
          },
          "metadata": {
            "needs_background": "light"
          }
        },
        {
          "output_type": "stream",
          "name": "stdout",
          "text": [
            "Prediction 0\n",
            "Ground Truth 1\n"
          ]
        },
        {
          "output_type": "display_data",
          "data": {
            "text/plain": [
              "<Figure size 432x288 with 1 Axes>"
            ],
            "image/png": "[encoded data removed]"
          },
          "metadata": {
            "needs_background": "light"
          }
        },
        {
          "output_type": "stream",
          "name": "stdout",
          "text": [
            "Prediction 1\n",
            "Ground Truth 0\n"
          ]
        },
        {
          "output_type": "display_data",
          "data": {
            "text/plain": [
              "<Figure size 432x288 with 1 Axes>"
            ],
            "image/png": "[encoded data removed]"
          },
          "metadata": {
            "needs_background": "light"
          }
        },
        {
          "output_type": "stream",
          "name": "stdout",
          "text": [
            "Prediction 0\n",
            "Ground Truth 1\n"
          ]
        },
        {
          "output_type": "display_data",
          "data": {
            "text/plain": [
              "<Figure size 432x288 with 1 Axes>"
            ],
            "image/png": "[encoded data removed]"
          },
          "metadata": {
            "needs_background": "light"
          }
        },
        {
          "output_type": "stream",
          "name": "stdout",
          "text": [
            "Prediction 1\n",
            "Ground Truth 0\n",
            "0.25\n"
          ]
        }
      ]
    },
    {
      "cell_type": "markdown",
      "metadata": {
        "id": "ZqxGw_sOqhyE"
      },
      "source": [
        "The above pictures are just graphical representations (aligned in a matrix) of 28 times 28 randomly or fake randomly drawn numbers 0 or 1. The faking mechanisms is detected by our machine with a success rate of 72 percent."
      ]
    },
    {
      "cell_type": "code",
      "metadata": {
        "id": "ILcDotcvqhyE"
      },
      "source": [
        "def longestrun(Xrand):\n",
        "    walk = np.cumsum(2*Xrand-1)\n",
        "    y = 1\n",
        "    for i in range(2,20):\n",
        "        for n in range(len(walk)-i):\n",
        "            if abs(walk[n+i]-walk[n])==i:\n",
        "                y = i\n",
        "                break\n",
        "    return y"
      ],
      "execution_count": null,
      "outputs": []
    },
    {
      "cell_type": "code",
      "metadata": {
        "id": "ZX4-jFFyqhyE",
        "colab": {
          "base_uri": "https://localhost:8080/",
          "height": 664
        },
        "outputId": "36653396-7dae-4551-8f54-1a15be17ccd2"
      },
      "source": [
        "def histlongestrun(N,M):\n",
        "    lrts = []\n",
        "    for i in range(M):\n",
        "        draw = np.random.binomial(1,0.5,N*N)\n",
        "        lr = longestrun(draw)\n",
        "        lrts = lrts + [lr]\n",
        "    plt.hist(lrts)\n",
        "    plt.show()\n",
        "histlongestrun(28,500)\n",
        "draw = np.random.binomial(1,0.5,28*28)\n",
        "print(draw)\n",
        "print(longestrun(draw))"
      ],
      "execution_count": null,
      "outputs": [
        {
          "output_type": "display_data",
          "data": {
            "text/plain": [
              "<Figure size 432x288 with 1 Axes>"
            ],
            "image/png": "[encoded data removed]"
          },
          "metadata": {
            "needs_background": "light"
          }
        },
        {
          "output_type": "stream",
          "name": "stdout",
          "text": [
            "[0 0 0 1 0 1 0 1 1 0 0 0 0 0 1 1 0 1 1 1 0 1 1 0 1 1 0 1 0 0 0 1 0 0 1 1 0\n",
            " 0 1 1 1 0 0 1 1 1 1 1 1 1 0 0 1 1 1 0 0 1 0 1 1 1 0 1 1 1 0 1 0 1 0 1 0 0\n",
            " 0 0 1 1 0 0 0 1 1 1 1 1 1 0 1 0 1 0 1 0 0 1 1 1 1 1 0 0 1 1 1 0 0 1 0 1 0\n",
            " 0 0 0 0 1 1 0 0 0 1 1 0 1 1 0 0 0 0 1 1 0 1 1 1 1 0 0 0 0 1 1 0 0 0 0 0 0\n",
            " 1 0 1 0 0 0 1 1 0 1 1 0 1 1 1 0 0 0 0 1 1 1 1 0 0 0 0 1 1 1 1 1 0 1 0 1 0\n",
            " 0 0 1 0 1 0 1 0 0 0 1 1 0 0 0 1 1 0 1 1 1 0 1 0 0 1 0 0 0 1 1 0 0 1 0 1 0\n",
            " 0 1 0 0 0 1 1 0 1 0 0 0 1 0 1 1 1 1 0 0 1 1 0 0 0 0 0 0 0 1 1 0 0 0 0 0 1\n",
            " 1 0 0 0 1 0 1 1 0 0 1 0 1 1 1 0 1 0 1 0 1 0 0 0 0 1 1 1 1 1 0 0 0 0 1 0 1\n",
            " 1 1 0 1 0 1 0 0 0 1 0 1 1 1 1 0 1 1 1 0 0 1 1 1 1 1 1 0 1 0 1 1 1 1 1 0 1\n",
            " 1 0 1 0 1 1 1 0 1 1 0 1 1 0 0 1 1 1 0 1 0 1 1 1 0 1 1 0 0 1 0 0 0 0 1 1 1\n",
            " 0 0 0 0 1 0 1 0 1 0 0 1 1 1 1 1 1 0 1 0 1 1 0 0 0 0 1 0 1 1 0 0 0 1 0 1 0\n",
            " 0 0 0 0 0 0 0 1 1 1 1 1 0 0 0 1 0 0 1 0 1 0 0 1 1 1 1 1 0 1 1 0 1 0 1 0 0\n",
            " 0 0 1 1 1 1 0 1 1 0 0 1 1 0 1 1 1 1 0 1 1 0 1 0 0 1 1 1 1 0 1 0 0 0 0 0 0\n",
            " 1 0 1 0 0 1 1 1 1 0 0 1 1 1 0 0 0 1 0 0 0 1 1 0 0 1 0 0 0 0 1 0 1 0 1 0 0\n",
            " 1 0 1 0 1 1 0 1 0 0 0 1 0 1 0 0 0 1 1 0 0 1 1 0 0 1 1 0 0 0 0 1 1 0 1 1 1\n",
            " 1 1 1 0 1 0 0 1 0 0 1 0 1 1 1 0 0 0 1 0 0 1 1 1 1 1 1 1 0 1 1 1 1 0 0 1 0\n",
            " 1 1 1 0 0 0 0 0 1 0 0 0 1 1 1 1 1 1 0 0 1 1 0 0 0 1 0 0 1 0 0 1 1 1 0 1 1\n",
            " 1 0 0 0 1 1 1 0 0 0 1 1 1 0 1 1 0 0 1 1 1 1 1 0 0 1 1 1 0 1 0 1 0 1 1 1 0\n",
            " 0 1 1 0 1 0 0 1 0 1 0 1 1 0 0 1 0 1 0 1 1 1 0 0 0 0 0 1 1 1 1 0 1 0 1 1 1\n",
            " 0 1 0 1 1 1 0 1 0 1 1 1 1 1 0 1 0 1 1 0 0 1 0 1 0 0 1 1 1 0 1 0 0 0 0 1 0\n",
            " 1 0 1 1 1 1 1 1 0 1 1 1 0 0 0 0 1 1 0 0 1 1 0 0 1 1 0 1 0 0 1 1 1 0 0 1 0\n",
            " 0 1 1 0 0 0 1]\n",
            "8\n"
          ]
        }
      ]
    },
    {
      "cell_type": "code",
      "metadata": {
        "id": "oZzbK5jVqhyE",
        "colab": {
          "base_uri": "https://localhost:8080/"
        },
        "outputId": "c61e1d20-ab01-4de3-e515-bdfbc5ec110b"
      },
      "source": [
        "modellr.count_params()"
      ],
      "execution_count": null,
      "outputs": [
        {
          "output_type": "execute_result",
          "data": {
            "text/plain": [
              "217910"
            ]
          },
          "metadata": {},
          "execution_count": 25
        }
      ]
    },
    {
      "cell_type": "markdown",
      "metadata": {
        "id": "vAUMwKSuqhyE"
      },
      "source": [
        "The nature of randomness is very structured and our tabula rasa machine can alreay quite well understand the difference."
      ]
    },
    {
      "cell_type": "markdown",
      "metadata": {
        "id": "-wMTNE9_qhyG"
      },
      "source": [
        "What is common to all three examples?\n",
        "\n",
        "1. Learning from actual observations.\n",
        "2. Before learning some general knowledge of the problem ('rules of the game') but no particularities are known.\n",
        "3. Learning is accessible.\n",
        "\n",
        "It is the goal of this lecture to explain in detail the mathematical ideas behind these phenomena and to show concrete applications to finance and economics as alluded above."
      ]
    },
    {
      "cell_type": "markdown",
      "metadata": {
        "id": "Q7ZGccyMqhyG"
      },
      "source": [
        "# Possible Applications in Finance"
      ]
    },
    {
      "cell_type": "markdown",
      "metadata": {
        "id": "W-Hz_v3IqhyG"
      },
      "source": [
        "To provide ideas which applications we do have in mind. Instead of using established numerical algorithms one can *learn* solutions from observations.\n",
        "\n",
        "1. Deep Hedging (B&uuml;hler-Gonon-Teichmann-Wood 2017)\n",
        "2. Deep Calibration (Cuchiero-Teichmann et al. 2016-17-18)\n",
        "3. Deep Simulation (Cuchiero-Gonon-Grigoryeva-Ortega 2019)\n",
        "\n",
        "What is Hedging? Solutions of non-linear, non-standard optimization problems.\n",
        "\n",
        "What is Calibration? Model selection given certain market data.\n",
        "\n",
        "What is simulation? Prediction of time series.\n",
        "\n",
        "All tasks of tremendous importance in every day finance."
      ]
    },
    {
      "cell_type": "markdown",
      "metadata": {
        "id": "C6IEG_CHqhyH"
      },
      "source": [
        "# Universal Approximation"
      ]
    },
    {
      "cell_type": "markdown",
      "metadata": {
        "id": "bDQ5w9uqqhyH"
      },
      "source": [
        "Neural networks appeard in the 1943 [seminal work](https://towardsdatascience.com/mcculloch-pitts-model-5fdf65ac5dd1) by [Warren McCulloch](https://de.wikipedia.org/wiki/Warren_McCulloch) and [Walter Pitts](https://de.wikipedia.org/wiki/Warren_McCulloch) inspired by certain functionalities of the human brain aiming for artificial intelligence (AI). Essentially neural networks are concatenations of affine functions with standard non-linearities, the essential feature is *one-dimensionality* of involved maps (except the sum), which is related to\n",
        "\n",
        ">[Arnold](https://en.wikipedia.org/wiki/Vladimir_Arnold)-[Kolmogorov](https://en.wikipedia.org/wiki/Andrey_Kolmogorov) representation theorem (around 1960): functions on the unit cube can be represented by sums and uni-variate functions ([Hilbert's](https://en.wikipedia.org/wiki/David_Hilbert) thirteenth problem), i.e. for evey non-linear function of $d$ real variables one can finitely many functions of one real variable such that\n",
        "$$\n",
        "F(x_1,\\ldots,x_d) = \\sum_{i=0}^{2d} \\phi_i \\big(\\sum_{j=1}^d\\psi_{ij} (x_j) \\big)\n",
        "$$\n",
        "holds true.\n",
        "\n",
        "but also to\n",
        "\n",
        ">the [Radon](https://en.wikipedia.org/wiki/Johann_Radon) transform (used in computer tomography) where a multivariate density is approximated by its lower dimensional projections.\n",
        "\n",
        "At the end of the eighties it was proved by George Cybenko in 'Approximation by superposition of sigmoidal functions' and by Kurt Hornik, Maxwell Stinchcombe and Halbert White in 'Multilayer feedforward networks are universal approximator' that neural networks with only *one* hidden layer approximate certain generic classes of functions. We shall prove this theorem first and consider certain instances of it in the sequel."
      ]
    },
    {
      "cell_type": "markdown",
      "metadata": {
        "id": "qYlaccQXqhyH"
      },
      "source": [
        "What is a neural network precisely? We shall consider a very general definition here.\n",
        "\n",
        "Let $X$ be a compact space, i.e. a compact topological Hausdorff space, and let ${(f_i)}_i$ be a family of real valued continuous functions on $X$ which is point separating, closed under addition and contains the constants function.\n",
        "\n",
        "Notice that on compact spaces we can consider the space of continuous functions $ C(X) $ with the supremum norm. This provides us with a Banach space and *every* positive linear functional on this Banach space (every element of the dual space can be written as difference of positive and negative linear functionals) can be represented by a unique regular Borel measure $\\mu$ on $X$, i.e.\n",
        "$$\n",
        "\\mu(U) = \\sup \\{ \\mu(K) | \\,  \\text{ for } K \\subset U \\text{ compact }\\}\n",
        "$$\n",
        "for all open $U \\subset X $ and\n",
        "$$\n",
        "\\mu(E) = \\inf \\{ \\mu(U) | \\,  \\text{ for }  E \\subset U \\text{ open }\\}\n",
        "$$\n",
        "for all Borel sets $E$. We shall refer to such measures as Radon measures. This is called [Riesz-Markov-Kakutani representation theorem](https://en.wikipedia.org/wiki/Riesz%E2%80%93Markov%E2%80%93Kakutani_representation_theorem) or short Riesz representation theorem.\n",
        "\n",
        "Let $ \\phi : \\mathbb{R} \\to \\mathbb{R} $ be a sigmoidal activation function, i.e. a function with $ \\phi(t) \\to a $ for $ t \\to  \\infty $ and $ \\phi(t) \\to b \\neq a $ as $ t \\to -\\infty$ (we do not assume continuity at this point, but notice for later purposes of approximation of continuous functions that $\\phi$ will always be chosen continuous)."
      ]
    },
    {
      "cell_type": "markdown",
      "metadata": {
        "id": "9apwHvh7qhyH"
      },
      "source": [
        ">A neural network $ g $ is a linear combination of functions of type $ \\phi \\circ (f_i + \\beta_i) $ for some number $\\beta_i $, i.e\n",
        "$$\n",
        "g(x) = \\sum_{i=1}^N  \\alpha_i \\phi(f_i(x)+ \\beta_i) \n",
        "$$\n",
        ">for $ x \\in X $.\n",
        ">We say that the neural network has $N$ hidden nodes and one hidden layer."
      ]
    },
    {
      "cell_type": "markdown",
      "metadata": {
        "id": "Pj-qMsTTqhyH"
      },
      "source": [
        "We shall also need a second definition. A locally bounded measurable function $ \\phi $ is called *discriminatory* if every (signed) Radon measure $ \\mu $ on $ X $ with\n",
        "$$\n",
        "\\int_X \\phi(f_i(x)) \\mu(dx) = 0 \n",
        "$$\n",
        "for all $ i $ it holds that the signed Radon measure $ \\mu $ vanishes. Since the additive family contains constants we can rewrite the condition in the more familiar form\n",
        "$$\n",
        "\\int_X \\phi(f_i(x) + \\beta_i) \\mu(dx) = 0 \n",
        "$$\n",
        "for all $i$ and for all $\\beta_i $."
      ]
    },
    {
      "cell_type": "markdown",
      "metadata": {
        "id": "-uNDHI1HqhyH"
      },
      "source": [
        "We can easily prove the following statement:\n",
        "\n",
        "<b>Lemma:</b> Every bounded measurable sigmoidal function is discrimatory.\n",
        "\n",
        "Let $ \\phi $ a be a sigmoidal activation function and let $ \\mu $ be a signed Radon measure such that\n",
        "$$\n",
        "\\int_X \\phi(f_i(x) + \\beta_i) \\mu(dx) = 0 \n",
        "$$\n",
        "for all $ i $ and $\\beta_i $, then -- by assumption $ \\phi(n f_i(x) + n \\theta_i + \\xi) $ approximates\n",
        "$$\n",
        "a 1_{\\{f_i + \\theta > 0 \\}} +  \\phi(\\xi) 1_{\\{f_i + \\theta = 0 \\}} + b 1_{\\{f_i + \\theta < 0 \\}} \n",
        "$$\n",
        "as the integers $ n \\to \\infty $ for all $ x \\in X$. By Lebesgue's dominated convergence theorem the signed measure $ \\mu $ satisfies therefore (notice that $\\xi$ is arbitrary!)\n",
        "$$\n",
        "\\int_X 1_{\\{f_i + \\theta_i > 0\\}} (x) \\mu(dx) = 0 \n",
        "$$\n",
        "for all $ i $ and for all $ \\theta_i $. Hence the signed Radon measure $ \\mu $ vanishes on all sets of the form $ f_i + \\theta_i > 0 $. \n",
        "\n",
        "By linear combinations and dominated convergence one obtains that\n",
        "$$\n",
        "\\int_X h(f_i(x))\\mu(dx) = 0\n",
        "$$\n",
        "for all continuous functions $h:\\mathbb{R} \\to \\mathbb{R}$, since a continuous function $ h $ can be approximated pointwise by step functions.\n",
        "\n",
        "Take now $ h(x) = \\sin(x) $ or $ h(x) = \\cos(x) $, then we obtain that actually\n",
        "$$\n",
        "\\int_X \\exp( \\sqrt{-1} \\sum f_i(x) k_i ) \\mu(dx) = 0\n",
        "$$\n",
        "for all integers $ k_i \\in \\mathbb{Z} $. Hence actually the closure of the linear space generated by $ h(f_i) $ for all $ i $ and for all continuous functions $ h $ contains an algebra, e.g.\n",
        "$$\n",
        "\\int_X f_{i_1}(x) \\cdots f_{i_k}(x) \\mu(dx) = 0\n",
        "$$\n",
        "for all $i_1,\\ldots,i_k$. This, however, means that the measure $ \\mu $ vanishes, since the algebra generated by the point separating function family $ (f_i) $ is dense due to the Stone-Weierstrass theorem."
      ]
    },
    {
      "cell_type": "markdown",
      "metadata": {
        "id": "yj1yBzFGqhyH"
      },
      "source": [
        "By the [Hahn](https://en.wikipedia.org/wiki/Hans_Hahn_&#40;mathematician&#41;)-[Banach](https://en.wikipedia.org/wiki/Stefan_Banach) theorem and the [Riesz](https://en.wikipedia.org/wiki/Frigyes_Riesz) representation theorem it is now clear that neural networks generated with a fixed continuous bounded sigmoidal function $ \\phi $ are dense in all continuous functions.\n",
        "\n",
        "<b>Theorem: The set of one layer neural networks is dense in $C(X)$.</b>"
      ]
    },
    {
      "cell_type": "markdown",
      "metadata": {
        "id": "mCsWqKShqhyH"
      },
      "source": [
        "Consider the closure of the set of all neural networks in $C(X)$ and take a contiuous linear functional $ l $ on $ C(X) $ which vanishes on it: its existence is guaranteed by the Hahn-Banach theorem. This linear functional can be represented by a Radon measure $ \\mu $. Since $ l $ vanishes on all neural networks it holds in particular that\n",
        "$$\n",
        "\\int_X \\phi(f_i(x) + \\beta_i) \\mu(dx) = 0 \n",
        "$$\n",
        "for all $ i $ and for all $\\beta_i $. But $ \\phi $ is discrimatory, hence $ \\mu = 0 $ and therefore the closure of the space of neural networks has to be $ C(X) $."
      ]
    },
    {
      "cell_type": "markdown",
      "metadata": {
        "id": "RBBuTDg0qhyI"
      },
      "source": [
        "There are several remarks due:\n",
        "\n",
        "1. Sigmoidal functions are discrimatory, but they are not the only ones. By Norbert Wiener's famous Tauberian theorem every function $ \\phi \\in L^1(\\mathbb{R}) $ such that $ \\int_{\\mathbb{R}} \\phi(t) dt \\neq 0 $ has the property that the closure of $ \\phi(a.+b) $ for all real $ a , b $ is dense in $L^1(\\mathbb{R}) $ (see Walter Rudin's book on functional analysis). Other classes can be described too.\n",
        "\n",
        "2. The argument can be generalized to $ L^p $ spaces on measure spaces, to $ B^\\rho $ spaces on weithed spaces, to $ C^k $ spaces in manifolds. The essential ingredients are an additively closed, *point separating* set of functions $ f_i $ on the corresponding space and a weak topology on the respective Banach space which allows for dominated convergence and, of course, a discrimatory function for the respective linear functionals.\n",
        "\n",
        "3. We can iterate the argument: take now the additively closed, point separating family of functions the set of neural networks with one hidden layer (written with respect to some family $ f_i $ itself, then we obtain neural networks with *two* hidden layers. We have therefore actually proved that neural networks with finitely many hidden layers are dense in $C(X)$.\n",
        "\n",
        "4. A main ingredient of the above proof is the [Stone-Weierstrass approximation theorem](https://en.wikipedia.org/wiki/Stone%E2%80%93Weierstrass_theorem), which we shall explain a bit in the sequel: its original version due to Karl Weierstrass is the statement that polynomials are dense in $C([0,1])$. This can be seen by a [beautiful proof](https://en.wikipedia.org/wiki/Bernstein_polynomial) due to [Sergei Natanovich Berstein](https://en.wikipedia.org/wiki/Sergei_Natanovich_Bernstein). Take a sequence of independent, identically distributed Bernoulli random variables $(Z_k)$ with success parameter $x \\in [0,1] $, then\n",
        "$$\n",
        "S_n:=\\frac{Z_1+\\ldots+Z_n}{n} \\to x\n",
        "$$\n",
        "by the law of large numbers in $L^2$, whence by the Markov inequality and uniform continuity of $ f $ on $ [0,1] $ it follows that $ E[f(S_n)] \\to f $ uniformly on $[0,1]$. However, $ E[f(S_n)]$ is a polynomial of degree $n$ in $x \\in [0,1]$. Having established the Weierstrass theorem on $[0,1]$ it is an easy step towards the [Stone-Weierstrass theorem](https://en.wikipedia.org/wiki/Stone%E2%80%93Weierstrass_theorem): first one observes by translating and scaling that the Weierstrass theorem actually holds on $ C([a,b]) $ for all intervals $[a,b]$ and that $ x \\mapsto |x| $ can be approximated by polynomials therein (which, of course, depend on $[a,b]$). Take now a point separating subalgebra $A \\subset C(X)$, where $X$ is a compact topological Hausdorff space, then it is clear that with $f,g \\in A $ also $ \\max(f,g)=\\frac{f+g}{2} + \\frac{|f-g|}{2} $ lies in the closure of $A$, since $ |f-g| $ can be approximated by polynomials of $(f-g)$. Take now a function $ f \\in C(X) $ and $ \\epsilon > 0 $: by the point separating property of $A$ we can construct $ g_{x,y} \\in A $ such that $ g_{x,y}(x) = f(x) $, $ g_{x,y}(y) = f(y) $ for every $ x,y \\in X $. Let us first fix $ y $, then we find for every $ x \\in X $ an open neighborhood $ x \\in U_x $ of $x$ such that $ g_{x,y}(z) > f(z) + \\epsilon $ for $ z \\in U_x $. This is a cover of $X$ and has therefore a finite subcover (indexed by $x_1,\\dots,x_n$) over which we can take maximum $h_y$ of $g_{x_i,y}$, which then still satisfies the inequality, but now globally, i.e. $ h_y > f + \\epsilon $. Additionally we have preserved the property $h_y(y)=f(y) $. Now consider another cover by open neighborhoods $ y \\in V_y $ of $y$, where $ h_y(z) < f(z) + \\epsilon $ for $ z \\in V_y $ holds true. Again there is a finite subcover and the minimum over this subcover does the job.\n",
        "\n",
        "5. One could right away define an activation function $\\phi$ by the property that neural networks on $ [0,1] $ are uniformly dense in $ C([0,1])$. By translating and scaling this then holds for $C([a,b])$ and therefore for every additive family on $X$ neural networks are dense in $C(X)$."
      ]
    },
    {
      "cell_type": "code",
      "metadata": {
        "colab": {
          "base_uri": "https://localhost:8080/",
          "height": 265
        },
        "id": "EzhM9D6bWtuA",
        "outputId": "755a7028-6fe6-495c-c8e3-59b2bd94a394"
      },
      "source": [
        "from scipy.special import comb\n",
        "import numpy as np\n",
        "import matplotlib.pyplot as plt\n",
        "\n",
        "\n",
        "\n",
        "def f(x):\n",
        "    return np.sin(5*x)\n",
        "\n",
        "def Bernstein(n,f,x):\n",
        "    return sum(f(k/n) * comb(n, k) * x**k * (1 - x)**(n - k) for k in range(n+1))\n",
        "\n",
        "x = np.linspace(0,1,num=100)\n",
        "\n",
        "plt.plot(x,Bernstein(30,f,x))\n",
        "plt.plot(x,f(x))\n",
        "plt.show()"
      ],
      "execution_count": null,
      "outputs": [
        {
          "output_type": "display_data",
          "data": {
            "text/plain": [
              "<Figure size 432x288 with 1 Axes>"
            ],
            "image/png": "[encoded data removed]"
          },
          "metadata": {
            "needs_background": "light"
          }
        }
      ]
    },
    {
      "cell_type": "code",
      "metadata": {
        "id": "9DL8YwJ8eSzI"
      },
      "source": [
        "# Importing the required Keras modules containing model and layers\n",
        "from keras.models import Sequential\n",
        "from keras.layers import Dense\n",
        "\n",
        "input_shape=(1,)\n",
        "\n",
        "model = Sequential()\n",
        "layer = Dense(64, activation=tf.nn.relu,kernel_initializer='RandomUniform',input_shape=input_shape)\n",
        "layer.trainable=True\n",
        "model.add(layer)\n",
        "model.add(Dense(1,activation='linear'))\n",
        "\n",
        "n=10000\n",
        "xtrain=np.array([k/n for k in range(n)])\n",
        "ytrain=f(xtrain)"
      ],
      "execution_count": null,
      "outputs": []
    },
    {
      "cell_type": "code",
      "metadata": {
        "colab": {
          "base_uri": "https://localhost:8080/",
          "height": 960
        },
        "id": "_xxznJfnfBz9",
        "outputId": "bb988462-1570-4781-8c24-e275cb830dfe"
      },
      "source": [
        "model.compile(optimizer='adam', \n",
        "              loss='mse', \n",
        "              metrics=['accuracy'])\n",
        "for i in range(1):\n",
        "    model.fit(x=xtrain,y=ytrain, epochs=20,verbose=True,batch_size=100)\n",
        "    plt.plot(xtrain,model.predict(xtrain))\n",
        "    plt.plot(xtrain,ytrain)\n",
        "    plt.plot()"
      ],
      "execution_count": null,
      "outputs": [
        {
          "output_type": "stream",
          "name": "stdout",
          "text": [
            "Epoch 1/20\n",
            "100/100 [==============================] - 1s 2ms/step - loss: 0.4018 - accuracy: 1.0000e-04\n",
            "Epoch 2/20\n",
            "100/100 [==============================] - 0s 2ms/step - loss: 0.1666 - accuracy: 0.0000e+00\n",
            "Epoch 3/20\n",
            "100/100 [==============================] - 0s 2ms/step - loss: 0.0906 - accuracy: 1.0000e-04\n",
            "Epoch 4/20\n",
            "100/100 [==============================] - 0s 2ms/step - loss: 0.0742 - accuracy: 1.0000e-04\n",
            "Epoch 5/20\n",
            "100/100 [==============================] - 0s 2ms/step - loss: 0.0636 - accuracy: 1.0000e-04\n",
            "Epoch 6/20\n",
            "100/100 [==============================] - 0s 2ms/step - loss: 0.0555 - accuracy: 1.0000e-04\n",
            "Epoch 7/20\n",
            "100/100 [==============================] - 0s 2ms/step - loss: 0.0492 - accuracy: 1.0000e-04\n",
            "Epoch 8/20\n",
            "100/100 [==============================] - 0s 2ms/step - loss: 0.0442 - accuracy: 1.0000e-04\n",
            "Epoch 9/20\n",
            "100/100 [==============================] - 0s 1ms/step - loss: 0.0399 - accuracy: 1.0000e-04\n",
            "Epoch 10/20\n",
            "100/100 [==============================] - 0s 2ms/step - loss: 0.0359 - accuracy: 1.0000e-04\n",
            "Epoch 11/20\n",
            "100/100 [==============================] - 0s 2ms/step - loss: 0.0320 - accuracy: 1.0000e-04\n",
            "Epoch 12/20\n",
            "100/100 [==============================] - 0s 2ms/step - loss: 0.0285 - accuracy: 1.0000e-04\n",
            "Epoch 13/20\n",
            "100/100 [==============================] - 0s 2ms/step - loss: 0.0249 - accuracy: 1.0000e-04\n",
            "Epoch 14/20\n",
            "100/100 [==============================] - 0s 2ms/step - loss: 0.0219 - accuracy: 2.0000e-04\n",
            "Epoch 15/20\n",
            "100/100 [==============================] - 0s 2ms/step - loss: 0.0191 - accuracy: 2.0000e-04\n",
            "Epoch 16/20\n",
            "100/100 [==============================] - 0s 2ms/step - loss: 0.0169 - accuracy: 2.0000e-04\n",
            "Epoch 17/20\n",
            "100/100 [==============================] - 0s 2ms/step - loss: 0.0153 - accuracy: 2.0000e-04\n",
            "Epoch 18/20\n",
            "100/100 [==============================] - 0s 2ms/step - loss: 0.0141 - accuracy: 2.0000e-04\n",
            "Epoch 19/20\n",
            "100/100 [==============================] - 0s 2ms/step - loss: 0.0129 - accuracy: 2.0000e-04\n",
            "Epoch 20/20\n",
            "100/100 [==============================] - 0s 2ms/step - loss: 0.0122 - accuracy: 2.0000e-04\n"
          ]
        },
        {
          "output_type": "display_data",
          "data": {
            "text/plain": [
              "<Figure size 432x288 with 1 Axes>"
            ],
            "image/png": "[encoded data removed]"
          },
          "metadata": {
            "needs_background": "light"
          }
        }
      ]
    },
    {
      "cell_type": "markdown",
      "metadata": {
        "id": "3iaFA2qCqhyI"
      },
      "source": [
        "# Deep neural networks"
      ]
    },
    {
      "cell_type": "markdown",
      "metadata": {
        "id": "p5FJtmH7qhyI"
      },
      "source": [
        "Neural networks with one hidden layer are called *shallow*, with more than one *deep*. The number of nodes in the hidden layer can vary as well as the discrimatory function.\n",
        "\n",
        "Before we talk about the most important question how to actually train a network, i.e. determine the network which approximates well a given function on a trainings set, we try to understand first what we can in principle expect.\n",
        "\n",
        "What shall give a series of arguments why deep neural networks represent so well non-linear functions following the famous article [Provable approximations for deep neural networks](https://arxiv.org/pdf/1509.07385.pdf) by Uri Shaham, Alexander Cloninger and Ronald R. Coifman."
      ]
    },
    {
      "cell_type": "markdown",
      "metadata": {
        "id": "zYFcb66wqhyI"
      },
      "source": [
        "The main statement of the article is in fact amazing:\n",
        "\n",
        "<b>$L^2$ functions with sparse wavelet expansion on $d$ dimensional manifolds $\\Gamma \\subset \\mathbb{R}^m$ can be approximated by depth $3$ sparsely connected neural networks with $N$ units up to order $ 1/N $. Constants mainly depend on $ d $ and only weakly on $m$. </b>"
      ]
    },
    {
      "cell_type": "markdown",
      "metadata": {
        "id": "sjz_3YXBqhyI"
      },
      "source": [
        ">Classical work by Barron suggests actually such a relationship by functional analytic arguments. However constants there grow with dimension $m$."
      ]
    },
    {
      "cell_type": "markdown",
      "metadata": {
        "id": "HMOt9NajqhyI"
      },
      "source": [
        "The most important insight is the following construction:\n",
        "\n",
        "Take a rectifier activation function $ r(x) = \\max(x,0) $ and define a trapezoid shaped function\n",
        "$$\n",
        "t(x) = r(x+3) - r(x+1) - r(x-1) + r(x-3)\n",
        "$$"
      ]
    },
    {
      "cell_type": "code",
      "metadata": {
        "id": "WQL0l05TqhyI",
        "outputId": "e9e4f9aa-ab23-451a-8040-3c1c333fa0ac",
        "colab": {
          "base_uri": "https://localhost:8080/",
          "height": 265
        }
      },
      "source": [
        "def r(x):\n",
        "    return np.max([x,0])\n",
        "\n",
        "def t(x):\n",
        "    return r(x+3)-r(x+1)-r(x-1)+r(x-3)\n",
        "\n",
        "x = np.linspace(-5,5,1000)\n",
        "y = np.array([t(z) for z in x])\n",
        "plt.plot(x,y)\n",
        "plt.show()"
      ],
      "execution_count": null,
      "outputs": [
        {
          "output_type": "display_data",
          "data": {
            "text/plain": [
              "<Figure size 432x288 with 1 Axes>"
            ],
            "image/png": "[encoded data removed]"
          },
          "metadata": {
            "needs_background": "light"
          }
        }
      ]
    },
    {
      "cell_type": "markdown",
      "metadata": {
        "id": "hhdQEpARqhyI"
      },
      "source": [
        "Next we define the scaling function\n",
        "$$\n",
        "\\phi(x_1,\\ldots,x_d) = C_d r \\big (\\sum_{i=1}^d t(x_i) - 2(d-1) \\big)\n",
        "$$\n",
        "which is already neural network of depth $2$ with a constant chosen such that $ \\int \\phi(x) dx = 1 $."
      ]
    },
    {
      "cell_type": "markdown",
      "metadata": {
        "id": "wUx0-MgYqhyJ"
      },
      "source": [
        "This function $ \\phi $ is used to define wavelets and so called frames, which serve to expand the non-linear function $ f $, via $ S_{-1} := 0 $.\n",
        "$$\n",
        "S_k(x,b) := 2^k \\phi (2^{k/d}(x-b))\n",
        "$$\n",
        "for $ k \\in \\mathbb{N} $, the 'father' wavelet, and\n",
        "$$\n",
        "D_k(x,b) := S_k(x,b) - S_{k-1}(x,b)\n",
        "$$\n",
        "as well as $ \\psi_k(x) := 2^{-k/2} D_k(x,b) $, the 'mother' wavelet.\n",
        "\n",
        "Then $ \\{ \\psi_k(.,b) \\} $ for $ k \\in \\mathbb{Z} $ and $ b \\in 2^{-k} \\mathbb{Z}^d $ is a frame in $ L^2(\\mathbb{R}^d) $."
      ]
    },
    {
      "cell_type": "markdown",
      "metadata": {
        "id": "kHKW5TWTqhyJ"
      },
      "source": [
        "<b>Let $ f $ be a compactly supported function on $ \\mathbb{R}^d $ with bounded gradient, then for every $ K \\in \\mathbb{N} $ there is a linear combination $ f_K $ of frame elements up to order $ K $ such\n",
        "$$\n",
        "\\big|f(x) - f_K(x) \\big| = O\\big(2^{-2K/d}\\big) \\, .\n",
        "$$\n",
        "</b>"
      ]
    },
    {
      "cell_type": "markdown",
      "metadata": {
        "id": "LuH0WJlAqhyJ"
      },
      "source": [
        "Whence one can approximate the function $ f $ by neural networks of depth $2$ build by rectifier units."
      ]
    },
    {
      "cell_type": "markdown",
      "metadata": {
        "id": "-3gFUxe1qhyJ"
      },
      "source": [
        "This can apparently be extended to manifolds by localizing to charts."
      ]
    },
    {
      "cell_type": "markdown",
      "metadata": {
        "id": "Mrlz2SCrqhyJ"
      },
      "source": [
        "Let us look a bit more in detail how we obtain the following *provable estimate* for the approximation property of neural networks."
      ]
    },
    {
      "cell_type": "markdown",
      "metadata": {
        "collapsed": true,
        "id": "cTjZMcHyqhyJ"
      },
      "source": [
        "1. We have $ C_{\\Gamma} $ charts covering the manifold, each chart can be chosen a linear map onto the $d$ first cooridinates of some $ \\mathbb{R}^m $.\n",
        "2. Choose an appropriate partition of unity and write $ f = \\sum f_i $ where each $ f_i $ is supported 'well' in a chart domain.\n",
        "3. Expand the $ f_i $ with respect to the above wavelet basis on $ \\mathbb{R}^d $ and extend the wavelet basis to $ \\mathbb{R}^m $ by again using the previously construced, however unscaled and uncentred, trapezes, i.e.\n",
        "$$\n",
        "\\phi_r(2^{k/d}(x-b)) = C_d r \\big (\\sum_{i=1}^d t(2^{k/d}(x_i-b_i)) +\\sum_{i=d+1}^m t_r(x_i)- 2(m-1) \\big) \\, .\n",
        "$$\n",
        "4. This yields $ m C_{\\Gamma} $ linear units in the first layer, $ 8 d \\sum_{i=1}^{C_{\\Gamma}} N_i + 4 C_{\\Gamma}(m-d) $ in the second layer, $ 2 \\sum_{i=1}^{C_{\\Gamma}} N_i $ in the third layer and a linear unit in the fourth layer. $ N_i $ denotes the number of wavelet coefficient necessary to represent the function in chart $ i $."
      ]
    },
    {
      "cell_type": "code",
      "metadata": {
        "id": "l0WWRts3qhyJ"
      },
      "source": [],
      "execution_count": null,
      "outputs": []
    }
  ]
}